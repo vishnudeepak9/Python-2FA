{
 "cells": [
  {
   "cell_type": "code",
   "execution_count": 5,
   "metadata": {},
   "outputs": [
    {
     "name": "stdout",
     "output_type": "stream",
     "text": [
      "Defaulting to user installation because normal site-packages is not writeable\n",
      "Requirement already satisfied: pyotp in /Users/vishnudeepak/Library/Python/3.8/lib/python/site-packages (2.6.0)\n",
      "\u001b[33mWARNING: You are using pip version 20.2.3; however, version 22.2.2 is available.\n",
      "You should consider upgrading via the '/Library/Developer/CommandLineTools/usr/bin/python3 -m pip install --upgrade pip' command.\u001b[0m\n",
      "Note: you may need to restart the kernel to use updated packages.\n"
     ]
    }
   ],
   "source": [
    "pip install pyotp"
   ]
  },
  {
   "cell_type": "code",
   "execution_count": 7,
   "metadata": {},
   "outputs": [
    {
     "name": "stdout",
     "output_type": "stream",
     "text": [
      "\n",
      "Current OTP for \n",
      "\n",
      "634698 : Myaccount\n",
      "265483 : Insta_id\n",
      "697236 : Snap_id\n"
     ]
    },
    {
     "ename": "KeyboardInterrupt",
     "evalue": "",
     "output_type": "error",
     "traceback": [
      "\u001b[0;31m---------------------------------------------------------------------------\u001b[0m",
      "\u001b[0;31mKeyboardInterrupt\u001b[0m                         Traceback (most recent call last)",
      "\u001b[1;32m/Users/vishnudeepak/Desktop/Python-2FA/python_2fa.ipynb Cell 2\u001b[0m in \u001b[0;36m<cell line: 19>\u001b[0;34m()\u001b[0m\n\u001b[1;32m     <a href='vscode-notebook-cell:/Users/vishnudeepak/Desktop/Python-2FA/python_2fa.ipynb#W1sZmlsZQ%3D%3D?line=22'>23</a>\u001b[0m   \u001b[39mprint\u001b[39m(\u001b[39mf\u001b[39m\u001b[39m\"\u001b[39m\u001b[39m{\u001b[39;00mtotp\u001b[39m.\u001b[39mnow()\u001b[39m}\u001b[39;00m\u001b[39m : \u001b[39m\u001b[39m{\u001b[39;00m(data[\u001b[39m'\u001b[39m\u001b[39msecret_totp\u001b[39m\u001b[39m'\u001b[39m][i][\u001b[39m'\u001b[39m\u001b[39mUsername\u001b[39m\u001b[39m'\u001b[39m])\u001b[39m}\u001b[39;00m\u001b[39m\"\u001b[39m)\n\u001b[1;32m     <a href='vscode-notebook-cell:/Users/vishnudeepak/Desktop/Python-2FA/python_2fa.ipynb#W1sZmlsZQ%3D%3D?line=23'>24</a>\u001b[0m n\u001b[39m=\u001b[39m\u001b[39mint\u001b[39m(datetime\u001b[39m.\u001b[39mtimestamp(datetime\u001b[39m.\u001b[39mnow()))\u001b[39m%\u001b[39m\u001b[39m30\u001b[39m\n\u001b[0;32m---> <a href='vscode-notebook-cell:/Users/vishnudeepak/Desktop/Python-2FA/python_2fa.ipynb#W1sZmlsZQ%3D%3D?line=24'>25</a>\u001b[0m time\u001b[39m.\u001b[39;49msleep(\u001b[39m30\u001b[39;49m\u001b[39m-\u001b[39;49m(n\u001b[39m-\u001b[39;49m\u001b[39m1\u001b[39;49m)) \n\u001b[1;32m     <a href='vscode-notebook-cell:/Users/vishnudeepak/Desktop/Python-2FA/python_2fa.ipynb#W1sZmlsZQ%3D%3D?line=25'>26</a>\u001b[0m clear()\n",
      "\u001b[0;31mKeyboardInterrupt\u001b[0m: "
     ]
    }
   ],
   "source": [
    "import pyotp\n",
    "import time\n",
    "import os\n",
    "import json\n",
    "from datetime import datetime\n",
    "from IPython.display import clear_output\n",
    "\n",
    "def clear():\n",
    "  clear_output(wait=True)\n",
    "\n",
    "fi = \"secret.json\"\n",
    "with open(fi) as f:\n",
    "  data = json.loads(f.read())\n",
    "\n",
    "\n",
    "while True:\n",
    "\n",
    "  #   print(data['secret_totp'][1]['Secret'])\n",
    "  print(\"\\nCurrent OTP for \\n\")\n",
    "\n",
    "  for i in range(len(data['secret_totp'])):\n",
    "    totp = pyotp.TOTP((data['secret_totp'][i]['Secret']))\n",
    "    print(f\"{totp.now()} : {(data['secret_totp'][i]['Username'])}\")\n",
    "  n=int(datetime.timestamp(datetime.now()))%30\n",
    "  time.sleep(30-(n-1)) \n",
    "  clear()"
   ]
  }
 ],
 "metadata": {
  "kernelspec": {
   "display_name": "Python 3.8.9 64-bit",
   "language": "python",
   "name": "python3"
  },
  "language_info": {
   "codemirror_mode": {
    "name": "ipython",
    "version": 3
   },
   "file_extension": ".py",
   "mimetype": "text/x-python",
   "name": "python",
   "nbconvert_exporter": "python",
   "pygments_lexer": "ipython3",
   "version": "3.8.9"
  },
  "orig_nbformat": 4,
  "vscode": {
   "interpreter": {
    "hash": "31f2aee4e71d21fbe5cf8b01ff0e069b9275f58929596ceb00d14d90e3e16cd6"
   }
  }
 },
 "nbformat": 4,
 "nbformat_minor": 2
}
