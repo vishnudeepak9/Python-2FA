{
 "cells": [
  {
   "cell_type": "code",
   "execution_count": null,
   "metadata": {},
   "outputs": [],
   "source": [
    "pip install pyotp"
   ]
  },
  {
   "cell_type": "code",
   "execution_count": null,
   "metadata": {},
   "outputs": [],
   "source": [
    "import pyotp\n",
    "import time\n",
    "import os\n",
    "import json\n",
    "from datetime import datetime\n",
    "from IPython.display import clear_output\n",
    "\n",
    "def clear():\n",
    "  clear_output(wait=True)\n",
    "\n",
    "fi = \"secret.json\"\n",
    "with open(fi) as f:\n",
    "  data = json.loads(f.read())\n",
    "\n",
    "\n",
    "while True:\n",
    "\n",
    "  #   print(data['secret_totp'][1]['Secret'])\n",
    "  print(\"\\nCurrent OTP for \\n\")\n",
    "\n",
    "  for i in range(len(data['secret_totp'])):\n",
    "    totp = pyotp.TOTP((data['secret_totp'][i]['Secret']))\n",
    "    print(f\"{totp.now()} : {(data['secret_totp'][i]['Username'])}\")\n",
    "  n=int(datetime.timestamp(datetime.now()))%30\n",
    "  time.sleep(30-(n-1)) \n",
    "  clear()"
   ]
  }
 ],
 "metadata": {
  "kernelspec": {
   "display_name": "Python 3.8.9 64-bit",
   "language": "python",
   "name": "python3"
  },
  "language_info": {
   "codemirror_mode": {
    "name": "ipython",
    "version": 3
   },
   "file_extension": ".py",
   "mimetype": "text/x-python",
   "name": "python",
   "nbconvert_exporter": "python",
   "pygments_lexer": "ipython3",
   "version": "3.8.9"
  },
  "orig_nbformat": 4,
  "vscode": {
   "interpreter": {
    "hash": "31f2aee4e71d21fbe5cf8b01ff0e069b9275f58929596ceb00d14d90e3e16cd6"
   }
  }
 },
 "nbformat": 4,
 "nbformat_minor": 2
}
